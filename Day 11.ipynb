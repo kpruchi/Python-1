{
 "cells": [
  {
   "cell_type": "markdown",
   "metadata": {},
   "source": [
    "# Problem solving and programming\n",
    "\n",
    "## Day no - 11\n",
    "\n",
    "## Date- 9th May 2019"
   ]
  },
  {
   "cell_type": "markdown",
   "metadata": {},
   "source": [
    "### problem 1\n",
    "\n",
    "#### problem statement\n",
    " Greet\n",
    "\n",
    "#### constraints\n",
    "\n",
    "####  Test cases"
   ]
  },
  {
   "cell_type": "code",
   "execution_count": 2,
   "metadata": {},
   "outputs": [
    {
     "name": "stdout",
     "output_type": "stream",
     "text": [
      "greet\n"
     ]
    }
   ],
   "source": [
    "print(\"greet\")"
   ]
  },
  {
   "cell_type": "markdown",
   "metadata": {},
   "source": [
    "### problem 2\n",
    "\n",
    "#### problem statement\n",
    " Arithmetic Operations\n",
    "\n",
    "#### constraints\n",
    "\n",
    "####  Test cases"
   ]
  },
  {
   "cell_type": "code",
   "execution_count": 7,
   "metadata": {},
   "outputs": [
    {
     "data": {
      "text/plain": [
       "2"
      ]
     },
     "execution_count": 7,
     "metadata": {},
     "output_type": "execute_result"
    }
   ],
   "source": [
    "a=2\n",
    "b=4\n",
    "a+b\n",
    "a-b\n",
    "a*b\n",
    "a/b\n",
    "a%b"
   ]
  },
  {
   "cell_type": "markdown",
   "metadata": {},
   "source": [
    "### problem 3\n",
    "\n",
    "#### problem statement\n",
    " Determining whether a number is Even or Odd\n",
    "\n",
    "#### constraints\n",
    "\n",
    "####  Test cases"
   ]
  },
  {
   "cell_type": "code",
   "execution_count": 32,
   "metadata": {},
   "outputs": [
    {
     "name": "stdout",
     "output_type": "stream",
     "text": [
      "even\n"
     ]
    }
   ],
   "source": [
    "def check(n):\n",
    "    if (n%2==0):\n",
    "        print(\"even\")\n",
    "    else:\n",
    "        print(\"odd\")\n",
    "        \n",
    "check(12)        "
   ]
  },
  {
   "cell_type": "markdown",
   "metadata": {},
   "source": [
    "### problem 4\n",
    "\n",
    "#### problem statement\n",
    " Finding the greatest of 3 numbers\n",
    "\n",
    "#### constraints\n",
    "\n",
    "####  Test cases"
   ]
  },
  {
   "cell_type": "code",
   "execution_count": 33,
   "metadata": {},
   "outputs": [
    {
     "name": "stdout",
     "output_type": "stream",
     "text": [
      "a is greater\n"
     ]
    }
   ],
   "source": [
    "def check(a,b,c):\n",
    "    if (a>b) and (a>c):\n",
    "        print(\"a is greater\")\n",
    "    elif(b>c):\n",
    "        print(\"b is greater\")\n",
    "    else:\n",
    "        print(\"c is greater\")\n",
    "\n",
    "check(5,4,2)        "
   ]
  },
  {
   "cell_type": "markdown",
   "metadata": {},
   "source": [
    "### problem 5\n",
    "\n",
    "#### problem statement\n",
    " Given 2 ints, a and b, return True if one if them is 10 or if their sum is 10.\n",
    "\n",
    "#### constraints\n",
    "\n",
    "####  Test cases\n",
    " * makes10(9, 10) → True\n",
    " * makes10(9, 9) → False\n",
    " * makes10(1, 9) → True"
   ]
  },
  {
   "cell_type": "code",
   "execution_count": 17,
   "metadata": {},
   "outputs": [
    {
     "name": "stdout",
     "output_type": "stream",
     "text": [
      "True\n",
      "False\n"
     ]
    }
   ],
   "source": [
    "def check(a,b):\n",
    "    if (a==10) or (b==10) or (a+b==10):\n",
    "        print(\"True\")\n",
    "    else:\n",
    "        print(\"False\")\n",
    "        \n",
    "check(4,6)\n",
    "check(9,9)"
   ]
  },
  {
   "cell_type": "markdown",
   "metadata": {},
   "source": [
    "### problem 6\n",
    "\n",
    "#### problem statement\n",
    " Given 2 int values, return True if one is negative and one is positive. Except if the parameter \"negative\" is True, then return True only if both are negative.\n",
    "\n",
    "#### constraints\n",
    "\n",
    "####  Test cases:\n",
    "       * pos_neg(1, -1, False) -> True\n",
    "       * pos_neg(-1, 1, False) -> True\n",
    "       * pos_neg(-4, -5, True) -> True\n",
    "       * pos_neg(-1, 1, True) -> False\n",
    "       * pos_neg(1, 6, True) -> False"
   ]
  },
  {
   "cell_type": "code",
   "execution_count": 7,
   "metadata": {},
   "outputs": [
    {
     "name": "stdout",
     "output_type": "stream",
     "text": [
      "True\n",
      "True\n",
      "True\n",
      "False\n",
      "False\n"
     ]
    }
   ],
   "source": [
    "def pos_neg(n1,n2,b):\n",
    "    if (n1<0 and n2>0 and b==False) or (n1>0 and n2<0 and b==False) or (n1<0 and n2<0 and b==True):\n",
    "        return True\n",
    "    else :\n",
    "        return False\n",
    "\n",
    "    \n",
    "print(pos_neg(1, -1, False))\n",
    "print(pos_neg(-1, 1, False))\n",
    "print(pos_neg(-4, -5, True))\n",
    "print(pos_neg(-1, 1, True))\n",
    "print(pos_neg(1, 6, True))"
   ]
  },
  {
   "cell_type": "markdown",
   "metadata": {},
   "source": [
    "### problem 7\n",
    "\n",
    "#### problem statement\n",
    " Given an int n, return True if it is within 10 of 100 or 200. Note: abs(num) computes the absolute value of a number.\n",
    "\n",
    "#### constraints\n",
    "\n",
    "####  Test cases\n",
    "* near_hundred(93) → True\n",
    "* near_hundred(90) → True\n",
    "* near_hundred(89) → False  "
   ]
  },
  {
   "cell_type": "code",
   "execution_count": 3,
   "metadata": {},
   "outputs": [
    {
     "data": {
      "text/plain": [
       "True"
      ]
     },
     "execution_count": 3,
     "metadata": {},
     "output_type": "execute_result"
    }
   ],
   "source": [
    "def near_hundred(n):\n",
    "    if (10<=n and n<=100):\n",
    "        return True\n",
    "    else:\n",
    "        return False\n",
    "near_hundred(55)    "
   ]
  },
  {
   "cell_type": "markdown",
   "metadata": {},
   "source": [
    "### problem 8\n",
    "\n",
    "#### problem statement\n",
    " Create a Random Number Generator as a Procedure which takes the Range(lb, ub) and returns a Random number in the given range\n",
    "\n",
    "#### constraints\n",
    "\n",
    "####  Test cases\n",
    "   "
   ]
  },
  {
   "cell_type": "code",
   "execution_count": 45,
   "metadata": {},
   "outputs": [
    {
     "data": {
      "text/plain": [
       "5"
      ]
     },
     "execution_count": 45,
     "metadata": {},
     "output_type": "execute_result"
    }
   ],
   "source": [
    "import random\n",
    "\n",
    "def randomgenerator(lb,ub):\n",
    "    return random.randrange(lb+ub)\n",
    "\n",
    "randomgenerator(1,10)"
   ]
  },
  {
   "cell_type": "markdown",
   "metadata": {},
   "source": [
    "### problem 9\n",
    "\n",
    "#### problem statement\n",
    " Create a Random Number Generator as a Procedure which takes the Range(lb, ub) and returns SumRandom number in the given range\n",
    "\n",
    "#### constraints\n",
    "\n",
    "####  Test cases\n",
    "   "
   ]
  },
  {
   "cell_type": "code",
   "execution_count": 46,
   "metadata": {},
   "outputs": [
    {
     "data": {
      "text/plain": [
       "55893"
      ]
     },
     "execution_count": 46,
     "metadata": {},
     "output_type": "execute_result"
    }
   ],
   "source": [
    "import random\n",
    "\n",
    "def sumrandomnumbers(n,lb,ub):\n",
    "    sum=1\n",
    "    for count in range(1,n+1):\n",
    "        sum=sum+random.randint(lb,ub)\n",
    "    return sum\n",
    "\n",
    "sumrandomnumbers(100,100,1000)"
   ]
  },
  {
   "cell_type": "markdown",
   "metadata": {},
   "source": [
    "### problem 10\n",
    "\n",
    "#### problem statement\n",
    " Design a procedure to perform Linear search on list of N unsorted unique numbers. It take an array and the key element to be searched and returns the index of the element of key element if found. Else returns -1\n",
    "\n",
    "#### constraints\n",
    "\n",
    "####  Test cases\n",
    "   * LinearSearch([1,4,8,0,3,5,6], 3) -> 4\n",
    "   * LinearSearch([15,12,9,6,3,-3], 0) -> -1 \n",
    "   * LinearSearch([321,543,567,789],567) ->2"
   ]
  },
  {
   "cell_type": "code",
   "execution_count": 23,
   "metadata": {},
   "outputs": [
    {
     "name": "stdout",
     "output_type": "stream",
     "text": [
      "4\n",
      "-1\n",
      "2\n"
     ]
    }
   ],
   "source": [
    "a=[5,7,9,87,6]\n",
    "def linearsearch(a, key):\n",
    "    for i in range(0, len(a)):\n",
    "        if(a[i]== key):\n",
    "            return i\n",
    "    return -1\n",
    "\n",
    "print(linearsearch([1,4,8,0,3,5,6], 3))\n",
    "print(linearsearch([15,12,9,6,3,-3], 0))  \n",
    "print(linearsearch([321,543,567,789],567))"
   ]
  },
  {
   "cell_type": "markdown",
   "metadata": {},
   "source": [
    "### problem 11\n",
    "\n",
    "#### problem statement\n",
    "  Factorial of a given number as a procedure\n",
    "\n",
    "#### constraints\n",
    "\n",
    "####  Test cases \n",
    " * Factorial(5) -> 120\n",
    " * Factorial (6) -> 720"
   ]
  },
  {
   "cell_type": "code",
   "execution_count": 8,
   "metadata": {},
   "outputs": [
    {
     "name": "stdout",
     "output_type": "stream",
     "text": [
      "120\n",
      "720\n"
     ]
    }
   ],
   "source": [
    "def factorial(num):\n",
    "    if num==1 or num==0:\n",
    "        return 1\n",
    "    else:\n",
    "        return num*factorial(num-1)\n",
    "    \n",
    "print(factorial(5)) \n",
    "print(factorial(6))"
   ]
  },
  {
   "cell_type": "markdown",
   "metadata": {},
   "source": [
    "### problem 12\n",
    "\n",
    "#### problem statement\n",
    " Design a procedure to determine if a given string is a Palindrome\n",
    "\n",
    "#### constraints\n",
    "\n",
    "####  Test cases\n",
    "* Palindrome(\"racecar\") -> True\n",
    "* Palindrome(\"raptor\") -> False"
   ]
  },
  {
   "cell_type": "code",
   "execution_count": 14,
   "metadata": {},
   "outputs": [
    {
     "name": "stdout",
     "output_type": "stream",
     "text": [
      "palindrome\n",
      " \n",
      "True\n",
      " \n",
      "Not palindrome\n",
      " \n",
      "False\n"
     ]
    }
   ],
   "source": [
    "def palindrome(n):\n",
    "    a=n[-1::-1]\n",
    "    if (n == a):\n",
    "        print(\"palindrome\")\n",
    "        print(\" \")\n",
    "        return True\n",
    "    else:\n",
    "        print(\"Not palindrome\")\n",
    "        print(\" \")\n",
    "        return False\n",
    "print(palindrome(\"racecar\")) \n",
    "print(\" \")\n",
    "print(palindrome(\"raptor\"))"
   ]
  },
  {
   "cell_type": "markdown",
   "metadata": {},
   "source": [
    "### problem 13\n",
    "\n",
    "#### problem statement\n",
    " Procedure to generate multiplication table. \n",
    "\n",
    "\n",
    "#### constraints\n",
    "\n",
    "####  Test cases\n",
    "   "
   ]
  },
  {
   "cell_type": "code",
   "execution_count": 51,
   "metadata": {},
   "outputs": [
    {
     "name": "stdout",
     "output_type": "stream",
     "text": [
      "5 X 1 = 5\n",
      "5 X 2 = 10\n",
      "5 X 3 = 15\n",
      "5 X 4 = 20\n",
      "5 X 5 = 25\n",
      "5 X 6 = 30\n",
      "5 X 7 = 35\n",
      "5 X 8 = 40\n",
      "5 X 9 = 45\n",
      "5 X 10 = 50\n"
     ]
    }
   ],
   "source": [
    "def multable(a,n1,n2):\n",
    "    for n1 in range (n1,n2+1):\n",
    "        print(a,\"X\",n1,\"=\",a*n1)\n",
    "              \n",
    "multable(5,1,10)              "
   ]
  },
  {
   "cell_type": "markdown",
   "metadata": {},
   "source": [
    "### problem 14\n",
    "\n",
    "#### problem statement\n",
    " Design a procedure to calculate the squareroot of a number\n",
    "\n",
    "#### constraints\n",
    "\n",
    "####  Test cases\n",
    "   "
   ]
  },
  {
   "cell_type": "code",
   "execution_count": 53,
   "metadata": {},
   "outputs": [
    {
     "data": {
      "text/plain": [
       "8.06225774829855"
      ]
     },
     "execution_count": 53,
     "metadata": {},
     "output_type": "execute_result"
    }
   ],
   "source": [
    "def squareroot(n):\n",
    "    a = (n)**0.5\n",
    "    return a\n",
    "squareroot(65)"
   ]
  }
 ],
 "metadata": {
  "kernelspec": {
   "display_name": "Python 3",
   "language": "python",
   "name": "python3"
  },
  "language_info": {
   "codemirror_mode": {
    "name": "ipython",
    "version": 3
   },
   "file_extension": ".py",
   "mimetype": "text/x-python",
   "name": "python",
   "nbconvert_exporter": "python",
   "pygments_lexer": "ipython3",
   "version": "3.7.3"
  }
 },
 "nbformat": 4,
 "nbformat_minor": 2
}
