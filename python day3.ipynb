{
 "cells": [
  {
   "cell_type": "markdown",
   "metadata": {},
   "source": [
    "even numbers\n"
   ]
  },
  {
   "cell_type": "code",
   "execution_count": 2,
   "metadata": {},
   "outputs": [
    {
     "name": "stdout",
     "output_type": "stream",
     "text": [
      "90\n"
     ]
    }
   ],
   "source": [
    "def printEven(n):\n",
    "    cnt=0;\n",
    "    sum=0;\n",
    "    while(cnt!=n):\n",
    "        if(cnt%2==0):\n",
    "            sum=sum+cnt;\n",
    "        cnt=cnt+1;\n",
    "    return sum;\n",
    "print(printEven(20));"
   ]
  },
  {
   "cell_type": "markdown",
   "metadata": {},
   "source": [
    "factors list of a given number\n",
    "12\n",
    "12346"
   ]
  },
  {
   "cell_type": "code",
   "execution_count": 4,
   "metadata": {},
   "outputs": [
    {
     "name": "stdout",
     "output_type": "stream",
     "text": [
      "1 2 3 4 6 "
     ]
    }
   ],
   "source": [
    "def factorslist(n):\n",
    "    i=1;\n",
    "    while(i!=n):\n",
    "        if(n%i==0):\n",
    "            print(i,end=\" \");\n",
    "        i=i+1;\n",
    "    return;\n",
    "factorslist(12);        "
   ]
  },
  {
   "cell_type": "markdown",
   "metadata": {},
   "source": [
    "List in python"
   ]
  },
  {
   "cell_type": "markdown",
   "metadata": {},
   "source": [
    "list can be written in python with square brackets and each item in the list isseperated by comma operator\n",
    "list may contain--int,char,float and string"
   ]
  },
  {
   "cell_type": "markdown",
   "metadata": {},
   "source": [
    "list1=[1,2,3,4,5]\n",
    "list2={\"a\",\"b\",\"c\"}\n",
    "list3={'maths','science',128.265}"
   ]
  },
  {
   "cell_type": "code",
   "execution_count": 5,
   "metadata": {},
   "outputs": [
    {
     "name": "stdout",
     "output_type": "stream",
     "text": [
      "[1, 2, 3, 4, 5]\n",
      "1\n"
     ]
    }
   ],
   "source": [
    "lst1=[1,2,3,4,5]\n",
    "#entire list\n",
    "print(lst1);\n",
    "print(lst1[0]);"
   ]
  },
  {
   "cell_type": "markdown",
   "metadata": {},
   "source": [
    "for loop\n",
    "syntax:\n",
    "for in:\n",
    "<statements>"
   ]
  },
  {
   "cell_type": "code",
   "execution_count": 8,
   "metadata": {},
   "outputs": [
    {
     "name": "stdout",
     "output_type": "stream",
     "text": [
      "amit anand aravind "
     ]
    }
   ],
   "source": [
    "list2=[\"amit\",\"anand\",\"aravind\"]\n",
    "for x in list2:\n",
    "    print(x,end=\" \")"
   ]
  },
  {
   "cell_type": "code",
   "execution_count": 10,
   "metadata": {},
   "outputs": [
    {
     "name": "stdout",
     "output_type": "stream",
     "text": [
      "1 2 32 4 5 \n",
      "5\n",
      "[1, 2, 32, 4]\n",
      "[32, 4]\n",
      "[1, 2, 32, 4]\n",
      "[1, 2]\n"
     ]
    }
   ],
   "source": [
    "#list example with particular index\n",
    "list1=[1,2,32,4,5];\n",
    "for x in list1:\n",
    "    print(x,end=\" \")\n",
    "print();\n",
    "print(list1[4]);\n",
    "print(list1[0:4]);\n",
    "print(list1[2:4]);\n",
    "print(list1[:4]);\n",
    "print(list1[:2]);"
   ]
  },
  {
   "cell_type": "code",
   "execution_count": 19,
   "metadata": {},
   "outputs": [
    {
     "name": "stdout",
     "output_type": "stream",
     "text": [
      "1 2 32 4 5 \n",
      "[2, 3, 4, 5, 6, 7, 8, 9]\n",
      "[3, 4, 5, 6, 7, 8]\n",
      "[1, 3, 5, 7, 9]\n",
      "[1, 4, 7, 10]\n",
      "[1, 6]\n",
      "9\n",
      "10\n"
     ]
    }
   ],
   "source": [
    "lst1=[1,2,3,4,5,6,7,8,9,10]\n",
    "for x in list1:\n",
    "    print(x,end=\" \")\n",
    "    \n",
    "print();\n",
    "print(lst1[1:-1]);\n",
    "print(lst1[2:-2]);\n",
    "print(lst1[::2]);\n",
    "print(lst1[::3]);\n",
    "print(lst1[::5]);\n",
    "print(lst1[-2]);\n",
    "print(lst1[-1]);"
   ]
  },
  {
   "cell_type": "markdown",
   "metadata": {},
   "source": [
    "list with range function"
   ]
  },
  {
   "cell_type": "code",
   "execution_count": 12,
   "metadata": {},
   "outputs": [
    {
     "name": "stdout",
     "output_type": "stream",
     "text": [
      "['anil', 'adarsh', 'akhil', 1]\n",
      "['anil', 'adarsh', 15, 1]\n",
      "['anil', 'adarsh', 15, 1]\n",
      "['anil', 'gitam', 15, 1]\n",
      "[1, 2, 3]\n",
      "['anil', 'gitam', 15, 1, 1, 2, 3]\n"
     ]
    }
   ],
   "source": [
    "lst1=[\"anil\",\"adarsh\",\"akhil\",1];\n",
    "print(lst1);\n",
    "\n",
    "lst1[2]=15;  #update the list item\n",
    "print(lst1);\n",
    "\n",
    "lst1[3];   #delete the list item\n",
    "print(lst1);\n",
    "\n",
    "lst1[1]=\"gitam\";\n",
    "print(lst1);\n",
    "\n",
    "lst2=[1,2,3];\n",
    "print(lst2);\n",
    "print(lst1+lst2); #Concatination of both the list"
   ]
  },
  {
   "cell_type": "code",
   "execution_count": 20,
   "metadata": {},
   "outputs": [
    {
     "name": "stdout",
     "output_type": "stream",
     "text": [
      "[1, 2, 3, 4]\n",
      "[1, 3, 4]\n",
      "3\n"
     ]
    }
   ],
   "source": [
    "lst1=[1,2,3,4];\n",
    "print(lst1);\n",
    "del lst1[1];\n",
    "print(lst1);\n",
    "print(len(lst1));"
   ]
  },
  {
   "cell_type": "markdown",
   "metadata": {},
   "source": [
    "list method:\n",
    "1.append:\n",
    "this method appends a passed object intio the existing list"
   ]
  },
  {
   "cell_type": "code",
   "execution_count": 21,
   "metadata": {},
   "outputs": [
    {
     "name": "stdout",
     "output_type": "stream",
     "text": [
      "[1, 2, 3, 4, 5]\n",
      "[1, 2, 3, 4, 5, 15]\n"
     ]
    }
   ],
   "source": [
    "lst2=[1,2,3,4,5];\n",
    "print(lst2);\n",
    "lst2.append(15);\n",
    "print(lst2);"
   ]
  },
  {
   "cell_type": "markdown",
   "metadata": {},
   "source": [
    "2.count:-this method returns the count of the object how many times in the list"
   ]
  },
  {
   "cell_type": "code",
   "execution_count": 18,
   "metadata": {},
   "outputs": [
    {
     "name": "stdout",
     "output_type": "stream",
     "text": [
      "[1, 2, 3, 4, 5]\n",
      "[1, 2, 4, 5]\n",
      "4\n",
      "[1, 2, 4, 5, 15, 150, 1, 3, 1]\n",
      "3\n",
      "1\n"
     ]
    }
   ],
   "source": [
    "lst1=[1,2,3,4,5]\n",
    "print(lst1);\n",
    "del lst1[2];\n",
    "print(lst1);\n",
    "#lst1[4]=15;\n",
    "print(len(lst1)); #Used to find the len of the list\n",
    "lst1.append(15);\n",
    "lst1.append(150);\n",
    "lst1.append(1);\n",
    "lst1.append(3);\n",
    "lst1.append(1);\n",
    "print(lst1);\n",
    "print(lst1.count(1))\n",
    "print(lst1.count(3))\n"
   ]
  },
  {
   "cell_type": "markdown",
   "metadata": {},
   "source": [
    "3.index(obj)\n",
    "Its returns the index of passed object first occurance from the left side"
   ]
  },
  {
   "cell_type": "code",
   "execution_count": 24,
   "metadata": {},
   "outputs": [
    {
     "name": "stdout",
     "output_type": "stream",
     "text": [
      "['Gitam', 'python', 'Raptor', 1, 5, 'python', 'python']\n",
      "7\n",
      "['Gitam', 'python', 2019, 'Raptor', 1, 5, 'python', 'python']\n",
      "8\n",
      "['Gitam', 'python', 2019, 'Raptor', 2020, 1, 5, 'python', 'python']\n"
     ]
    }
   ],
   "source": [
    "lst1=[\"Gitam\",\"python\",\"Raptor\",1,5,\"python\",\"python\"];\n",
    "print(lst1)\n",
    "lst1.index(\"python\")#Finding the index of object in the list\n",
    "lst1.index(1)\n",
    "print(len(lst1))\n",
    "lst1.insert(2,2019)\n",
    "print(lst1)\n",
    "print(len(lst1))\n",
    "lst1.insert(4,2020)\n",
    "print(lst1)"
   ]
  },
  {
   "cell_type": "markdown",
   "metadata": {},
   "source": [
    "###remove(obj):\n",
    "the remove method removes the passed object from the first occurance from the left direction"
   ]
  },
  {
   "cell_type": "code",
   "execution_count": 28,
   "metadata": {},
   "outputs": [
    {
     "name": "stdout",
     "output_type": "stream",
     "text": [
      "['Gitam', 'python', 'Raptor', 1, 5, 'python', 'python']\n",
      "['Gitam', 'Raptor', 1, 5, 'python', 'python']\n",
      "['Gitam', 'Raptor', 1, 5, 'python']\n"
     ]
    }
   ],
   "source": [
    "lst1=[\"Gitam\",\"python\",\"Raptor\",1,5,\"python\",\"python\"]\n",
    "print(lst1)\n",
    "lst1.remove(\"python\")\n",
    "print(lst1)\n",
    "lst1.remove(\"python\")\n",
    "print(lst1)"
   ]
  },
  {
   "cell_type": "markdown",
   "metadata": {},
   "source": [
    "##reverse(obj)\n",
    "this reverse() reverses objects of list"
   ]
  },
  {
   "cell_type": "code",
   "execution_count": 29,
   "metadata": {},
   "outputs": [
    {
     "name": "stdout",
     "output_type": "stream",
     "text": [
      "['Gitam', 'python', 'Raptor', 1, 5, 'python', 'python']\n",
      "['Gitam', 'Raptor', 1, 5, 'python', 'python']\n",
      "['Gitam', 'Raptor', 1, 5, 'python']\n",
      "['python', 5, 1, 'Raptor', 'Gitam']\n"
     ]
    }
   ],
   "source": [
    "lst1=[\"Gitam\",\"python\",\"Raptor\",1,5,\"python\",\"python\"]\n",
    "print(lst1)\n",
    "lst1.remove(\"python\")\n",
    "print(lst1)\n",
    "lst1.remove(\"python\")\n",
    "print(lst1)\n",
    "\n",
    "lst1.reverse()\n",
    "print(lst1)"
   ]
  },
  {
   "cell_type": "markdown",
   "metadata": {},
   "source": [
    "##Data Structure"
   ]
  },
  {
   "cell_type": "markdown",
   "metadata": {},
   "source": [
    "###Searching the data\n",
    "###linear search \n",
    "###binary search\n",
    "sort the data\n",
    "store the data"
   ]
  },
  {
   "cell_type": "markdown",
   "metadata": {},
   "source": [
    "Linear search"
   ]
  },
  {
   "cell_type": "code",
   "execution_count": 44,
   "metadata": {},
   "outputs": [
    {
     "name": "stdout",
     "output_type": "stream",
     "text": [
      "target item is not found\n"
     ]
    }
   ],
   "source": [
    "def linearsearch(a,tarItem):\n",
    "    flag=0;\n",
    "    for i in range(len(a)):\n",
    "          if a[i]==tarItem:\n",
    "            flag=1;\n",
    "            break;\n",
    "    if(flag!=0):\n",
    "        print(\"target item is found\")\n",
    "    else:\n",
    "        print(\"target item is not found\")\n",
    "     \n",
    "a=[16,2,12,6,9,1]\n",
    "linearsearch(a,61)"
   ]
  },
  {
   "cell_type": "code",
   "execution_count": 57,
   "metadata": {},
   "outputs": [],
   "source": [
    "def linearsearchduplicate(a,tarItem):\n",
    "    flag=0\n",
    "    for i in range(len(a)):\n",
    "         if a[i]==tarItem:\n",
    "            flag=flag+1\n",
    "    print(flag)\n",
    "     \n",
    "    a=[9,8,2,14,7,16,2]\n",
    "    linearsearchduplicate(a,2)"
   ]
  },
  {
   "cell_type": "markdown",
   "metadata": {},
   "source": [
    "Input:list\n",
    "output:indexes of target item\n",
    "test cases:1,5,9,6,5,15,12,5"
   ]
  },
  {
   "cell_type": "code",
   "execution_count": 60,
   "metadata": {},
   "outputs": [
    {
     "name": "stdout",
     "output_type": "stream",
     "text": [
      "1 4 7 "
     ]
    }
   ],
   "source": [
    "def linearexample1(a,tarItem):\n",
    "    flag=0\n",
    "    for i in range(len(a)):\n",
    "         if a[i]==tarItem:\n",
    "            print(i,end=\" \")\n",
    "                           \n",
    "a=[1,5,9,6,5,15,12,5]\n",
    "linearexample1(a,5)   #1 4 7"
   ]
  },
  {
   "cell_type": "markdown",
   "metadata": {},
   "source": [
    "input:a list\n",
    "output:a set of characters\n",
    "1,5,9,6,5,15,12,5\n"
   ]
  },
  {
   "cell_type": "code",
   "execution_count": 64,
   "metadata": {},
   "outputs": [
    {
     "name": "stdout",
     "output_type": "stream",
     "text": [
      "!!!!!!!!!!!!!!!"
     ]
    }
   ],
   "source": [
    "def linearexample1(a,tarItem):\n",
    "    flag=0\n",
    "    for i in range(len(a)):\n",
    "         if a[i]==tarItem:\n",
    "            print(\"!\"*(i+1),end=\"\")\n",
    "                           \n",
    "a=[1,5,9,6,5,15,12,5]\n",
    "linearexample1(a,5) "
   ]
  },
  {
   "cell_type": "code",
   "execution_count": 66,
   "metadata": {},
   "outputs": [
    {
     "name": "stdout",
     "output_type": "stream",
     "text": [
      "! !  ! ! ! ! !  ! ! ! ! ! ! ! !  "
     ]
    }
   ],
   "source": [
    "def linearexample2(a,tarItem):\n",
    "    for i in range(len(a)):\n",
    "        if a[i]==tarItem:\n",
    "            j=0\n",
    "            while j!=i+1:\n",
    "                print(\"!\",end=\" \")\n",
    "                j=j+1\n",
    "            print(end=\" \")\n",
    "            \n",
    "a=[1,5,9,6,5,15,12,5]\n",
    "linearexample2(a,5)"
   ]
  },
  {
   "cell_type": "markdown",
   "metadata": {},
   "source": [
    "input:list\n",
    "output:As given\n",
    "test cases:\n",
    "[15,12,2,9,18,36,45]--60"
   ]
  },
  {
   "cell_type": "markdown",
   "metadata": {},
   "source": [
    "A list item should be perfect multiple of 3 and 5\n",
    "Sum of all the list items which is perfect multiple of 3 and 5"
   ]
  },
  {
   "cell_type": "code",
   "execution_count": 78,
   "metadata": {},
   "outputs": [
    {
     "data": {
      "text/plain": [
       "60"
      ]
     },
     "execution_count": 78,
     "metadata": {},
     "output_type": "execute_result"
    }
   ],
   "source": [
    "def linearexample2(a,tarItem):\n",
    "    sum=0\n",
    "    for i in range(len(a)):\n",
    "       if a[i]%3==0 and a[i]%5==0:\n",
    "            sum=sum+a[i];\n",
    "    return (sum);\n",
    "a=[15,12,2,9,18,36,45]\n",
    "linearexample2(a,5)            "
   ]
  },
  {
   "cell_type": "markdown",
   "metadata": {},
   "source": [
    "input:list\n",
    "output:formatted output\n",
    "[1,2,3,4,5]---1 3 8 15 5"
   ]
  },
  {
   "cell_type": "code",
   "execution_count": 81,
   "metadata": {},
   "outputs": [
    {
     "name": "stdout",
     "output_type": "stream",
     "text": [
      "1 3 8 15 5 "
     ]
    }
   ],
   "source": [
    "def linearformattedOutput(a):\n",
    "    for i in range(len(a)):\n",
    "        if i==0 or i==(len(a)-1):\n",
    "            print(a[i],end=\" \")\n",
    "        else:\n",
    "            print(a[i-1]*a[i+1],end=\" \")\n",
    "                \n",
    "a=[1,2,3,4,5]\n",
    "linearformattedOutput(a);"
   ]
  },
  {
   "cell_type": "markdown",
   "metadata": {},
   "source": [
    "input:list\n",
    "output:formatted output"
   ]
  },
  {
   "cell_type": "markdown",
   "metadata": {},
   "source": [
    "test cases:\n",
    "[1,6,9,4,16,19,22]--1 9 19 22"
   ]
  },
  {
   "cell_type": "code",
   "execution_count": 95,
   "metadata": {},
   "outputs": [
    {
     "name": "stdout",
     "output_type": "stream",
     "text": [
      "1 9 19 22 "
     ]
    }
   ],
   "source": [
    "def linearformattedOutput(a):\n",
    "    for i in range(len(a)):\n",
    "        if (i==0 or i==len(a)-1): \n",
    "          print(a[i],end=\" \")\n",
    "        elif(a[i-1]%2==0 and a[i+1]%2==0):\n",
    "            print(a[i],end=\" \")\n",
    "            \n",
    "a=[1,6,9,4,16,19,22]\n",
    "linearformattedOutput(a)"
   ]
  },
  {
   "cell_type": "markdown",
   "metadata": {},
   "source": [
    "input:number-14569\n",
    "output:list-[1974]"
   ]
  },
  {
   "cell_type": "code",
   "execution_count": 107,
   "metadata": {},
   "outputs": [
    {
     "name": "stdout",
     "output_type": "stream",
     "text": [
      "enter a number14569\n",
      "[9]\n",
      "[6, 9]\n",
      "[5, 9, 6]\n",
      "[4, 6, 9, 5]\n",
      "[1, 5, 9, 6, 4]\n"
     ]
    }
   ],
   "source": [
    "def  numberlistConversion(n):\n",
    "     lst=[]\n",
    "     while n!=0:\n",
    "        r=n%10\n",
    "        lst.append(r)\n",
    "        n=n//10\n",
    "        lst.reverse()\n",
    "        print(lst)\n",
    "        \n",
    "n=int(input(\"enter a number\"))\n",
    "numberTolistConversion(n)        "
   ]
  },
  {
   "cell_type": "markdown",
   "metadata": {},
   "source": [
    "input:[1,4,5,6,9]-14569\n",
    "input-[1,4,5,6,9]-46(you have to consider only even in the list)\n",
    "input-14569 \n",
    "output-[4,6]\n"
   ]
  },
  {
   "cell_type": "code",
   "execution_count": 120,
   "metadata": {},
   "outputs": [
    {
     "name": "stdout",
     "output_type": "stream",
     "text": [
      "enter a number14569\n",
      "[1, 6, 9, 4, 16, 19, 22]\n",
      "[1, 6, 9, 4, 16, 19, 22]\n",
      "[1, 6, 9, 4, 16, 19, 22]\n",
      "[1, 6, 9, 4, 16, 19, 22]\n",
      "[1, 6, 9, 4, 16, 19, 22]\n"
     ]
    }
   ],
   "source": [
    "def numberTolistConversion(n):\n",
    "    lst=[]\n",
    "    while (n!=0):\n",
    "        r=n%10\n",
    "        if(r%2==0):\n",
    "            lst.append(r)\n",
    "        n=n//10\n",
    "        lst.reverse()\n",
    "        print(a)\n",
    "        \n",
    "n=int(input(\"enter a number\"))\n",
    "numberTolistConversion(n)"
   ]
  },
  {
   "cell_type": "markdown",
   "metadata": {},
   "source": [
    "#1.input:[1,2,3,4,5]\n",
    "output:[1,4,3,16,5]\n",
    "#2.input:[15,19,12,6,4]\n",
    "output:[15,34,31,28,20]"
   ]
  },
  {
   "cell_type": "code",
   "execution_count": 133,
   "metadata": {},
   "outputs": [
    {
     "name": "stdout",
     "output_type": "stream",
     "text": [
      "[15, 34, 31, 28, 20]\n"
     ]
    }
   ],
   "source": [
    "def numberTolistConversion(n):\n",
    "    lst=[]\n",
    "    sum=0\n",
    "    for i in range(len(n)):\n",
    "        if(i==0):\n",
    "            lst.append(n[i]);\n",
    "        else:\n",
    "            lst.append(n[i]+n[i-1]);\n",
    "    print(lst)\n",
    "        \n",
    "n=[15,19,12,16,4]\n",
    "numberTolistConversion(n)"
   ]
  },
  {
   "cell_type": "code",
   "execution_count": null,
   "metadata": {},
   "outputs": [],
   "source": [
    "def numberTolistConversion(n):\n",
    "    lst=[]\n",
    "    for i in range(len(a)):\n",
    "        if(i==2):\n",
    "            lst.append(a[i]);\n",
    "        else:\n",
    "            lst.append(a[i]+a[i-1]);\n",
    "        print(lst)\n",
    "        \n",
    "n=[15,19,12,6,4]\n",
    "numberTolistConversion(n)"
   ]
  }
 ],
 "metadata": {
  "kernelspec": {
   "display_name": "Python 3",
   "language": "python",
   "name": "python3"
  },
  "language_info": {
   "codemirror_mode": {
    "name": "ipython",
    "version": 3
   },
   "file_extension": ".py",
   "mimetype": "text/x-python",
   "name": "python",
   "nbconvert_exporter": "python",
   "pygments_lexer": "ipython3",
   "version": "3.7.3"
  }
 },
 "nbformat": 4,
 "nbformat_minor": 2
}
